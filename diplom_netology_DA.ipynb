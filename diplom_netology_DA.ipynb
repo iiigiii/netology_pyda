{
 "cells": [
  {
   "cell_type": "markdown",
   "metadata": {},
   "source": [
    "# Анализ факторов влияющих на привлекательность стартапа и прогнозирование его успешности на краудфандинговой платформе Kickstarter."
   ]
  },
  {
   "cell_type": "markdown",
   "metadata": {},
   "source": [
    "## Подготовка данных"
   ]
  },
  {
   "cell_type": "code",
   "execution_count": 1,
   "metadata": {},
   "outputs": [],
   "source": [
    "import pandas as pd\n",
    "import numpy as np \n",
    "import matplotlib.pyplot as plt\n",
    "import seaborn as sns\n",
    "import statistics\n",
    "import researchpy as rp\n",
    "from scipy import stats\n",
    "\n",
    "from sklearn.model_selection import train_test_split\n",
    "from sklearn.ensemble import RandomForestClassifier\n",
    "from sklearn.preprocessing import LabelEncoder\n",
    "from sklearn.metrics import classification_report"
   ]
  },
  {
   "cell_type": "code",
   "execution_count": 2,
   "metadata": {},
   "outputs": [],
   "source": [
    "ks = pd.read_csv('ks-projects-201801.csv')"
   ]
  },
  {
   "cell_type": "code",
   "execution_count": 3,
   "metadata": {
    "scrolled": false
   },
   "outputs": [
    {
     "data": {
      "text/html": [
       "<div>\n",
       "<style scoped>\n",
       "    .dataframe tbody tr th:only-of-type {\n",
       "        vertical-align: middle;\n",
       "    }\n",
       "\n",
       "    .dataframe tbody tr th {\n",
       "        vertical-align: top;\n",
       "    }\n",
       "\n",
       "    .dataframe thead th {\n",
       "        text-align: right;\n",
       "    }\n",
       "</style>\n",
       "<table border=\"1\" class=\"dataframe\">\n",
       "  <thead>\n",
       "    <tr style=\"text-align: right;\">\n",
       "      <th></th>\n",
       "      <th>ID</th>\n",
       "      <th>name</th>\n",
       "      <th>category</th>\n",
       "      <th>main_category</th>\n",
       "      <th>currency</th>\n",
       "      <th>deadline</th>\n",
       "      <th>goal</th>\n",
       "      <th>launched</th>\n",
       "      <th>pledged</th>\n",
       "      <th>state</th>\n",
       "      <th>backers</th>\n",
       "      <th>country</th>\n",
       "      <th>usd pledged</th>\n",
       "      <th>usd_pledged_real</th>\n",
       "      <th>usd_goal_real</th>\n",
       "    </tr>\n",
       "  </thead>\n",
       "  <tbody>\n",
       "    <tr>\n",
       "      <td>0</td>\n",
       "      <td>1000002330</td>\n",
       "      <td>The Songs of Adelaide &amp; Abullah</td>\n",
       "      <td>Poetry</td>\n",
       "      <td>Publishing</td>\n",
       "      <td>GBP</td>\n",
       "      <td>2015-10-09</td>\n",
       "      <td>1000.0</td>\n",
       "      <td>2015-08-11 12:12:28</td>\n",
       "      <td>0.0</td>\n",
       "      <td>failed</td>\n",
       "      <td>0</td>\n",
       "      <td>GB</td>\n",
       "      <td>0.0</td>\n",
       "      <td>0.0</td>\n",
       "      <td>1533.95</td>\n",
       "    </tr>\n",
       "    <tr>\n",
       "      <td>1</td>\n",
       "      <td>1000003930</td>\n",
       "      <td>Greeting From Earth: ZGAC Arts Capsule For ET</td>\n",
       "      <td>Narrative Film</td>\n",
       "      <td>Film &amp; Video</td>\n",
       "      <td>USD</td>\n",
       "      <td>2017-11-01</td>\n",
       "      <td>30000.0</td>\n",
       "      <td>2017-09-02 04:43:57</td>\n",
       "      <td>2421.0</td>\n",
       "      <td>failed</td>\n",
       "      <td>15</td>\n",
       "      <td>US</td>\n",
       "      <td>100.0</td>\n",
       "      <td>2421.0</td>\n",
       "      <td>30000.00</td>\n",
       "    </tr>\n",
       "    <tr>\n",
       "      <td>2</td>\n",
       "      <td>1000004038</td>\n",
       "      <td>Where is Hank?</td>\n",
       "      <td>Narrative Film</td>\n",
       "      <td>Film &amp; Video</td>\n",
       "      <td>USD</td>\n",
       "      <td>2013-02-26</td>\n",
       "      <td>45000.0</td>\n",
       "      <td>2013-01-12 00:20:50</td>\n",
       "      <td>220.0</td>\n",
       "      <td>failed</td>\n",
       "      <td>3</td>\n",
       "      <td>US</td>\n",
       "      <td>220.0</td>\n",
       "      <td>220.0</td>\n",
       "      <td>45000.00</td>\n",
       "    </tr>\n",
       "    <tr>\n",
       "      <td>3</td>\n",
       "      <td>1000007540</td>\n",
       "      <td>ToshiCapital Rekordz Needs Help to Complete Album</td>\n",
       "      <td>Music</td>\n",
       "      <td>Music</td>\n",
       "      <td>USD</td>\n",
       "      <td>2012-04-16</td>\n",
       "      <td>5000.0</td>\n",
       "      <td>2012-03-17 03:24:11</td>\n",
       "      <td>1.0</td>\n",
       "      <td>failed</td>\n",
       "      <td>1</td>\n",
       "      <td>US</td>\n",
       "      <td>1.0</td>\n",
       "      <td>1.0</td>\n",
       "      <td>5000.00</td>\n",
       "    </tr>\n",
       "    <tr>\n",
       "      <td>4</td>\n",
       "      <td>1000011046</td>\n",
       "      <td>Community Film Project: The Art of Neighborhoo...</td>\n",
       "      <td>Film &amp; Video</td>\n",
       "      <td>Film &amp; Video</td>\n",
       "      <td>USD</td>\n",
       "      <td>2015-08-29</td>\n",
       "      <td>19500.0</td>\n",
       "      <td>2015-07-04 08:35:03</td>\n",
       "      <td>1283.0</td>\n",
       "      <td>canceled</td>\n",
       "      <td>14</td>\n",
       "      <td>US</td>\n",
       "      <td>1283.0</td>\n",
       "      <td>1283.0</td>\n",
       "      <td>19500.00</td>\n",
       "    </tr>\n",
       "  </tbody>\n",
       "</table>\n",
       "</div>"
      ],
      "text/plain": [
       "           ID                                               name  \\\n",
       "0  1000002330                    The Songs of Adelaide & Abullah   \n",
       "1  1000003930      Greeting From Earth: ZGAC Arts Capsule For ET   \n",
       "2  1000004038                                     Where is Hank?   \n",
       "3  1000007540  ToshiCapital Rekordz Needs Help to Complete Album   \n",
       "4  1000011046  Community Film Project: The Art of Neighborhoo...   \n",
       "\n",
       "         category main_category currency    deadline     goal  \\\n",
       "0          Poetry    Publishing      GBP  2015-10-09   1000.0   \n",
       "1  Narrative Film  Film & Video      USD  2017-11-01  30000.0   \n",
       "2  Narrative Film  Film & Video      USD  2013-02-26  45000.0   \n",
       "3           Music         Music      USD  2012-04-16   5000.0   \n",
       "4    Film & Video  Film & Video      USD  2015-08-29  19500.0   \n",
       "\n",
       "              launched  pledged     state  backers country  usd pledged  \\\n",
       "0  2015-08-11 12:12:28      0.0    failed        0      GB          0.0   \n",
       "1  2017-09-02 04:43:57   2421.0    failed       15      US        100.0   \n",
       "2  2013-01-12 00:20:50    220.0    failed        3      US        220.0   \n",
       "3  2012-03-17 03:24:11      1.0    failed        1      US          1.0   \n",
       "4  2015-07-04 08:35:03   1283.0  canceled       14      US       1283.0   \n",
       "\n",
       "   usd_pledged_real  usd_goal_real  \n",
       "0               0.0        1533.95  \n",
       "1            2421.0       30000.00  \n",
       "2             220.0       45000.00  \n",
       "3               1.0        5000.00  \n",
       "4            1283.0       19500.00  "
      ]
     },
     "execution_count": 3,
     "metadata": {},
     "output_type": "execute_result"
    }
   ],
   "source": [
    "ks.head()"
   ]
  },
  {
   "cell_type": "code",
   "execution_count": 4,
   "metadata": {},
   "outputs": [
    {
     "name": "stdout",
     "output_type": "stream",
     "text": [
      "<class 'pandas.core.frame.DataFrame'>\n",
      "RangeIndex: 378661 entries, 0 to 378660\n",
      "Data columns (total 15 columns):\n",
      "ID                  378661 non-null int64\n",
      "name                378657 non-null object\n",
      "category            378661 non-null object\n",
      "main_category       378661 non-null object\n",
      "currency            378661 non-null object\n",
      "deadline            378661 non-null object\n",
      "goal                378661 non-null float64\n",
      "launched            378661 non-null object\n",
      "pledged             378661 non-null float64\n",
      "state               378661 non-null object\n",
      "backers             378661 non-null int64\n",
      "country             378661 non-null object\n",
      "usd pledged         374864 non-null float64\n",
      "usd_pledged_real    378661 non-null float64\n",
      "usd_goal_real       378661 non-null float64\n",
      "dtypes: float64(5), int64(2), object(8)\n",
      "memory usage: 43.3+ MB\n"
     ]
    }
   ],
   "source": [
    "ks.info()"
   ]
  },
  {
   "cell_type": "code",
   "execution_count": 5,
   "metadata": {},
   "outputs": [
    {
     "data": {
      "text/plain": [
       "array(['failed', 'canceled', 'successful', 'live', 'undefined',\n",
       "       'suspended'], dtype=object)"
      ]
     },
     "execution_count": 5,
     "metadata": {},
     "output_type": "execute_result"
    }
   ],
   "source": [
    "ks.state.unique()"
   ]
  },
  {
   "cell_type": "markdown",
   "metadata": {},
   "source": [
    "Оставим только те проекты по которым есть результат (положительный или отрицательный)"
   ]
  },
  {
   "cell_type": "code",
   "execution_count": 6,
   "metadata": {},
   "outputs": [],
   "source": [
    "ks = ks[(ks.state == 'failed') | (ks.state == 'successful')]"
   ]
  },
  {
   "cell_type": "markdown",
   "metadata": {},
   "source": [
    "Добавьм колонку содержащую количество дней сбора, а так же колонки с годом и месяцем начала сбора средств."
   ]
  },
  {
   "cell_type": "code",
   "execution_count": 7,
   "metadata": {},
   "outputs": [],
   "source": [
    "ks['launched'] = pd.to_datetime(ks.launched).dt.normalize()"
   ]
  },
  {
   "cell_type": "code",
   "execution_count": 8,
   "metadata": {},
   "outputs": [],
   "source": [
    "ks['amount_days']= pd.to_datetime(ks.deadline) - ks.launched"
   ]
  },
  {
   "cell_type": "code",
   "execution_count": 9,
   "metadata": {},
   "outputs": [],
   "source": [
    "ks['amount_days'] = (ks.amount_days / np.timedelta64(1, 'D')).astype(int) "
   ]
  },
  {
   "cell_type": "code",
   "execution_count": 10,
   "metadata": {},
   "outputs": [],
   "source": [
    "ks['year_start'] = ks['launched'].dt.year"
   ]
  },
  {
   "cell_type": "code",
   "execution_count": 11,
   "metadata": {},
   "outputs": [],
   "source": [
    "ks['month_start'] = ks['launched'].dt.month"
   ]
  },
  {
   "cell_type": "markdown",
   "metadata": {},
   "source": [
    "Добавим колонку, в которой будет результат переведенный из строкового в числовой."
   ]
  },
  {
   "cell_type": "code",
   "execution_count": 12,
   "metadata": {},
   "outputs": [],
   "source": [
    "def result_ (value):\n",
    "    if value == 'failed':\n",
    "        return 0\n",
    "    else:\n",
    "        return 1"
   ]
  },
  {
   "cell_type": "code",
   "execution_count": 13,
   "metadata": {},
   "outputs": [],
   "source": [
    "ks['result'] = ks.state.apply(result_)"
   ]
  },
  {
   "cell_type": "markdown",
   "metadata": {},
   "source": [
    "Добавим колонку содержащую разницу между полученными средствами и запрашиваемыми"
   ]
  },
  {
   "cell_type": "code",
   "execution_count": 14,
   "metadata": {},
   "outputs": [],
   "source": [
    "ks['diff_money'] = ks['usd_pledged_real'] - ks['usd_goal_real']"
   ]
  },
  {
   "cell_type": "markdown",
   "metadata": {},
   "source": [
    "Удалим колонку usd pledged так как есть более точная альтернатива - usd_pledged_real, к тому же без пропущеных значений\n",
    "\n",
    "А так же колонки goal, pledged так как есть альтернатива со значениями конвертированными в доллары(usd_pledged_real, usd_goal_real), соответственно колонка currency тоже больше не нужна. \n",
    "\n",
    "В столбцах deadline и launched так же более нет необходимости.\n",
    "\n",
    "ID как таковой тоже не нужен в данной работе. Предварительно изменим отсутствующие имена проектов на соответствующие ID для того чтобы не было NaN значений."
   ]
  },
  {
   "cell_type": "code",
   "execution_count": 15,
   "metadata": {},
   "outputs": [],
   "source": [
    "ks.name.fillna(ks.ID, inplace=True)"
   ]
  },
  {
   "cell_type": "code",
   "execution_count": 16,
   "metadata": {},
   "outputs": [
    {
     "name": "stdout",
     "output_type": "stream",
     "text": [
      "Index(['ID', 'name', 'category', 'main_category', 'currency', 'deadline',\n",
      "       'goal', 'launched', 'pledged', 'state', 'backers', 'country',\n",
      "       'usd pledged', 'usd_pledged_real', 'usd_goal_real', 'amount_days',\n",
      "       'year_start', 'month_start', 'result', 'diff_money'],\n",
      "      dtype='object')\n"
     ]
    }
   ],
   "source": [
    "print(ks.columns)"
   ]
  },
  {
   "cell_type": "code",
   "execution_count": 17,
   "metadata": {},
   "outputs": [],
   "source": [
    "ks = ks[['name', 'category', 'main_category', 'country',\n",
    "         'year_start', 'month_start', 'amount_days', 'backers', \n",
    "         'usd_pledged_real', 'usd_goal_real', 'diff_money', 'state', 'result']]"
   ]
  },
  {
   "cell_type": "code",
   "execution_count": 18,
   "metadata": {},
   "outputs": [
    {
     "data": {
      "text/html": [
       "<div>\n",
       "<style scoped>\n",
       "    .dataframe tbody tr th:only-of-type {\n",
       "        vertical-align: middle;\n",
       "    }\n",
       "\n",
       "    .dataframe tbody tr th {\n",
       "        vertical-align: top;\n",
       "    }\n",
       "\n",
       "    .dataframe thead th {\n",
       "        text-align: right;\n",
       "    }\n",
       "</style>\n",
       "<table border=\"1\" class=\"dataframe\">\n",
       "  <thead>\n",
       "    <tr style=\"text-align: right;\">\n",
       "      <th></th>\n",
       "      <th>name</th>\n",
       "      <th>category</th>\n",
       "      <th>main_category</th>\n",
       "      <th>country</th>\n",
       "      <th>year_start</th>\n",
       "      <th>month_start</th>\n",
       "      <th>amount_days</th>\n",
       "      <th>backers</th>\n",
       "      <th>usd_pledged_real</th>\n",
       "      <th>usd_goal_real</th>\n",
       "      <th>diff_money</th>\n",
       "      <th>state</th>\n",
       "      <th>result</th>\n",
       "    </tr>\n",
       "  </thead>\n",
       "  <tbody>\n",
       "    <tr>\n",
       "      <td>0</td>\n",
       "      <td>The Songs of Adelaide &amp; Abullah</td>\n",
       "      <td>Poetry</td>\n",
       "      <td>Publishing</td>\n",
       "      <td>GB</td>\n",
       "      <td>2015</td>\n",
       "      <td>8</td>\n",
       "      <td>59</td>\n",
       "      <td>0</td>\n",
       "      <td>0.0</td>\n",
       "      <td>1533.95</td>\n",
       "      <td>-1533.95</td>\n",
       "      <td>failed</td>\n",
       "      <td>0</td>\n",
       "    </tr>\n",
       "    <tr>\n",
       "      <td>1</td>\n",
       "      <td>Greeting From Earth: ZGAC Arts Capsule For ET</td>\n",
       "      <td>Narrative Film</td>\n",
       "      <td>Film &amp; Video</td>\n",
       "      <td>US</td>\n",
       "      <td>2017</td>\n",
       "      <td>9</td>\n",
       "      <td>60</td>\n",
       "      <td>15</td>\n",
       "      <td>2421.0</td>\n",
       "      <td>30000.00</td>\n",
       "      <td>-27579.00</td>\n",
       "      <td>failed</td>\n",
       "      <td>0</td>\n",
       "    </tr>\n",
       "    <tr>\n",
       "      <td>2</td>\n",
       "      <td>Where is Hank?</td>\n",
       "      <td>Narrative Film</td>\n",
       "      <td>Film &amp; Video</td>\n",
       "      <td>US</td>\n",
       "      <td>2013</td>\n",
       "      <td>1</td>\n",
       "      <td>45</td>\n",
       "      <td>3</td>\n",
       "      <td>220.0</td>\n",
       "      <td>45000.00</td>\n",
       "      <td>-44780.00</td>\n",
       "      <td>failed</td>\n",
       "      <td>0</td>\n",
       "    </tr>\n",
       "    <tr>\n",
       "      <td>3</td>\n",
       "      <td>ToshiCapital Rekordz Needs Help to Complete Album</td>\n",
       "      <td>Music</td>\n",
       "      <td>Music</td>\n",
       "      <td>US</td>\n",
       "      <td>2012</td>\n",
       "      <td>3</td>\n",
       "      <td>30</td>\n",
       "      <td>1</td>\n",
       "      <td>1.0</td>\n",
       "      <td>5000.00</td>\n",
       "      <td>-4999.00</td>\n",
       "      <td>failed</td>\n",
       "      <td>0</td>\n",
       "    </tr>\n",
       "    <tr>\n",
       "      <td>5</td>\n",
       "      <td>Monarch Espresso Bar</td>\n",
       "      <td>Restaurants</td>\n",
       "      <td>Food</td>\n",
       "      <td>US</td>\n",
       "      <td>2016</td>\n",
       "      <td>2</td>\n",
       "      <td>35</td>\n",
       "      <td>224</td>\n",
       "      <td>52375.0</td>\n",
       "      <td>50000.00</td>\n",
       "      <td>2375.00</td>\n",
       "      <td>successful</td>\n",
       "      <td>1</td>\n",
       "    </tr>\n",
       "  </tbody>\n",
       "</table>\n",
       "</div>"
      ],
      "text/plain": [
       "                                                name        category  \\\n",
       "0                    The Songs of Adelaide & Abullah          Poetry   \n",
       "1      Greeting From Earth: ZGAC Arts Capsule For ET  Narrative Film   \n",
       "2                                     Where is Hank?  Narrative Film   \n",
       "3  ToshiCapital Rekordz Needs Help to Complete Album           Music   \n",
       "5                               Monarch Espresso Bar     Restaurants   \n",
       "\n",
       "  main_category country  year_start  month_start  amount_days  backers  \\\n",
       "0    Publishing      GB        2015            8           59        0   \n",
       "1  Film & Video      US        2017            9           60       15   \n",
       "2  Film & Video      US        2013            1           45        3   \n",
       "3         Music      US        2012            3           30        1   \n",
       "5          Food      US        2016            2           35      224   \n",
       "\n",
       "   usd_pledged_real  usd_goal_real  diff_money       state  result  \n",
       "0               0.0        1533.95    -1533.95      failed       0  \n",
       "1            2421.0       30000.00   -27579.00      failed       0  \n",
       "2             220.0       45000.00   -44780.00      failed       0  \n",
       "3               1.0        5000.00    -4999.00      failed       0  \n",
       "5           52375.0       50000.00     2375.00  successful       1  "
      ]
     },
     "execution_count": 18,
     "metadata": {},
     "output_type": "execute_result"
    }
   ],
   "source": [
    "ks.head()"
   ]
  },
  {
   "cell_type": "markdown",
   "metadata": {},
   "source": [
    "## Анализ данных"
   ]
  },
  {
   "cell_type": "code",
   "execution_count": 19,
   "metadata": {},
   "outputs": [
    {
     "data": {
      "image/png": "[encoded data removed]",
      "text/plain": [
       "<Figure size 1080x1080 with 9 Axes>"
      ]
     },
     "metadata": {
      "needs_background": "light"
     },
     "output_type": "display_data"
    }
   ],
   "source": [
    "ks.hist()\n",
    "fig=plt.gcf()\n",
    "fig.set_size_inches(15,15)\n",
    "plt.show()"
   ]
  },
  {
   "cell_type": "code",
   "execution_count": 20,
   "metadata": {},
   "outputs": [
    {
     "data": {
      "text/html": [
       "<div>\n",
       "<style scoped>\n",
       "    .dataframe tbody tr th:only-of-type {\n",
       "        vertical-align: middle;\n",
       "    }\n",
       "\n",
       "    .dataframe tbody tr th {\n",
       "        vertical-align: top;\n",
       "    }\n",
       "\n",
       "    .dataframe thead th {\n",
       "        text-align: right;\n",
       "    }\n",
       "</style>\n",
       "<table border=\"1\" class=\"dataframe\">\n",
       "  <thead>\n",
       "    <tr style=\"text-align: right;\">\n",
       "      <th></th>\n",
       "      <th>year_start</th>\n",
       "      <th>month_start</th>\n",
       "      <th>amount_days</th>\n",
       "      <th>backers</th>\n",
       "      <th>usd_pledged_real</th>\n",
       "      <th>usd_goal_real</th>\n",
       "      <th>diff_money</th>\n",
       "      <th>result</th>\n",
       "    </tr>\n",
       "  </thead>\n",
       "  <tbody>\n",
       "    <tr>\n",
       "      <td>count</td>\n",
       "      <td>331675.0</td>\n",
       "      <td>331675.0</td>\n",
       "      <td>331675.0</td>\n",
       "      <td>331675.0</td>\n",
       "      <td>331675.0</td>\n",
       "      <td>331675.0</td>\n",
       "      <td>331675.0</td>\n",
       "      <td>331675.0</td>\n",
       "    </tr>\n",
       "    <tr>\n",
       "      <td>mean</td>\n",
       "      <td>2014.0</td>\n",
       "      <td>6.0</td>\n",
       "      <td>34.0</td>\n",
       "      <td>116.0</td>\n",
       "      <td>9943.0</td>\n",
       "      <td>41510.0</td>\n",
       "      <td>-31567.0</td>\n",
       "      <td>0.0</td>\n",
       "    </tr>\n",
       "    <tr>\n",
       "      <td>std</td>\n",
       "      <td>2.0</td>\n",
       "      <td>3.0</td>\n",
       "      <td>13.0</td>\n",
       "      <td>965.0</td>\n",
       "      <td>96733.0</td>\n",
       "      <td>1108930.0</td>\n",
       "      <td>1112528.0</td>\n",
       "      <td>0.0</td>\n",
       "    </tr>\n",
       "    <tr>\n",
       "      <td>min</td>\n",
       "      <td>2009.0</td>\n",
       "      <td>1.0</td>\n",
       "      <td>1.0</td>\n",
       "      <td>0.0</td>\n",
       "      <td>0.0</td>\n",
       "      <td>0.0</td>\n",
       "      <td>-166361391.0</td>\n",
       "      <td>0.0</td>\n",
       "    </tr>\n",
       "    <tr>\n",
       "      <td>25%</td>\n",
       "      <td>2013.0</td>\n",
       "      <td>4.0</td>\n",
       "      <td>30.0</td>\n",
       "      <td>2.0</td>\n",
       "      <td>50.0</td>\n",
       "      <td>2000.0</td>\n",
       "      <td>-9213.0</td>\n",
       "      <td>0.0</td>\n",
       "    </tr>\n",
       "    <tr>\n",
       "      <td>50%</td>\n",
       "      <td>2014.0</td>\n",
       "      <td>6.0</td>\n",
       "      <td>30.0</td>\n",
       "      <td>15.0</td>\n",
       "      <td>788.0</td>\n",
       "      <td>5000.0</td>\n",
       "      <td>-1263.0</td>\n",
       "      <td>0.0</td>\n",
       "    </tr>\n",
       "    <tr>\n",
       "      <td>75%</td>\n",
       "      <td>2016.0</td>\n",
       "      <td>9.0</td>\n",
       "      <td>36.0</td>\n",
       "      <td>63.0</td>\n",
       "      <td>4608.0</td>\n",
       "      <td>15000.0</td>\n",
       "      <td>298.0</td>\n",
       "      <td>1.0</td>\n",
       "    </tr>\n",
       "    <tr>\n",
       "      <td>max</td>\n",
       "      <td>2017.0</td>\n",
       "      <td>12.0</td>\n",
       "      <td>92.0</td>\n",
       "      <td>219382.0</td>\n",
       "      <td>20338986.0</td>\n",
       "      <td>166361391.0</td>\n",
       "      <td>19838986.0</td>\n",
       "      <td>1.0</td>\n",
       "    </tr>\n",
       "  </tbody>\n",
       "</table>\n",
       "</div>"
      ],
      "text/plain": [
       "       year_start  month_start  amount_days   backers  usd_pledged_real  \\\n",
       "count    331675.0     331675.0     331675.0  331675.0          331675.0   \n",
       "mean       2014.0          6.0         34.0     116.0            9943.0   \n",
       "std           2.0          3.0         13.0     965.0           96733.0   \n",
       "min        2009.0          1.0          1.0       0.0               0.0   \n",
       "25%        2013.0          4.0         30.0       2.0              50.0   \n",
       "50%        2014.0          6.0         30.0      15.0             788.0   \n",
       "75%        2016.0          9.0         36.0      63.0            4608.0   \n",
       "max        2017.0         12.0         92.0  219382.0        20338986.0   \n",
       "\n",
       "       usd_goal_real   diff_money    result  \n",
       "count       331675.0     331675.0  331675.0  \n",
       "mean         41510.0     -31567.0       0.0  \n",
       "std        1108930.0    1112528.0       0.0  \n",
       "min              0.0 -166361391.0       0.0  \n",
       "25%           2000.0      -9213.0       0.0  \n",
       "50%           5000.0      -1263.0       0.0  \n",
       "75%          15000.0        298.0       1.0  \n",
       "max      166361391.0   19838986.0       1.0  "
      ]
     },
     "execution_count": 20,
     "metadata": {},
     "output_type": "execute_result"
    }
   ],
   "source": [
    "round(ks.describe())"
   ]
  },
  {
   "cell_type": "markdown",
   "metadata": {},
   "source": [
    "Стоит отметить что большая часть целей до 15 тысяч а взносов до 4600 что более чем в три раза меньше."
   ]
  },
  {
   "cell_type": "code",
   "execution_count": 21,
   "metadata": {},
   "outputs": [
    {
     "data": {
      "text/plain": [
       "60.0"
      ]
     },
     "execution_count": 21,
     "metadata": {},
     "output_type": "execute_result"
    }
   ],
   "source": [
    "round(ks[ks['result'] == 0].state.count() / (ks.state.count() / 100))"
   ]
  },
  {
   "cell_type": "code",
   "execution_count": 22,
   "metadata": {},
   "outputs": [
    {
     "data": {
      "text/plain": [
       "40.0"
      ]
     },
     "execution_count": 22,
     "metadata": {},
     "output_type": "execute_result"
    }
   ],
   "source": [
    "round(ks[ks['result'] == 1].state.count() / (ks.state.count() / 100))"
   ]
  },
  {
   "cell_type": "markdown",
   "metadata": {},
   "source": [
    "Общее соотношение успех к провалу 60 на 40 процентов"
   ]
  },
  {
   "cell_type": "markdown",
   "metadata": {},
   "source": [
    "Проанализируем динамику некоторых показателей во времени: количество проектов, количество успешных проектов, процент успеха, количество человек сделавших взносы, средняя сумма взноса."
   ]
  },
  {
   "cell_type": "code",
   "execution_count": 23,
   "metadata": {},
   "outputs": [],
   "source": [
    "backer_year = ks.groupby('year_start').sum().reset_index()"
   ]
  },
  {
   "cell_type": "code",
   "execution_count": 24,
   "metadata": {},
   "outputs": [],
   "source": [
    "backer_year['mean_sum_year'] = round(backer_year.usd_pledged_real / backer_year.backers)"
   ]
  },
  {
   "cell_type": "code",
   "execution_count": 25,
   "metadata": {},
   "outputs": [],
   "source": [
    "result_count = ks.groupby('year_start').count().reset_index()\n",
    "result_count = result_count[['year_start', 'result']].rename(columns={'result': 'project_count'})"
   ]
  },
  {
   "cell_type": "code",
   "execution_count": 26,
   "metadata": {},
   "outputs": [],
   "source": [
    "backer_year = backer_year.merge(result_count, on='year_start', how='left')"
   ]
  },
  {
   "cell_type": "code",
   "execution_count": 27,
   "metadata": {},
   "outputs": [],
   "source": [
    "backer_year['percent_success'] = round(backer_year['result'] / ( backer_year['project_count'] / 100))"
   ]
  },
  {
   "cell_type": "code",
   "execution_count": 28,
   "metadata": {},
   "outputs": [],
   "source": [
    "backer_year = backer_year[['year_start', 'project_count', 'result',\n",
    "                           'percent_success', 'backers', 'mean_sum_year']].rename(columns={'result': 'count_success'})"
   ]
  },
  {
   "cell_type": "code",
   "execution_count": 29,
   "metadata": {},
   "outputs": [],
   "source": [
    "backer_year.set_index('year_start', inplace=True)"
   ]
  },
  {
   "cell_type": "code",
   "execution_count": 30,
   "metadata": {},
   "outputs": [
    {
     "data": {
      "text/html": [
       "<div>\n",
       "<style scoped>\n",
       "    .dataframe tbody tr th:only-of-type {\n",
       "        vertical-align: middle;\n",
       "    }\n",
       "\n",
       "    .dataframe tbody tr th {\n",
       "        vertical-align: top;\n",
       "    }\n",
       "\n",
       "    .dataframe thead th {\n",
       "        text-align: right;\n",
       "    }\n",
       "</style>\n",
       "<table border=\"1\" class=\"dataframe\">\n",
       "  <thead>\n",
       "    <tr style=\"text-align: right;\">\n",
       "      <th></th>\n",
       "      <th>project_count</th>\n",
       "      <th>count_success</th>\n",
       "      <th>percent_success</th>\n",
       "      <th>backers</th>\n",
       "      <th>mean_sum_year</th>\n",
       "    </tr>\n",
       "    <tr>\n",
       "      <th>year_start</th>\n",
       "      <th></th>\n",
       "      <th></th>\n",
       "      <th></th>\n",
       "      <th></th>\n",
       "      <th></th>\n",
       "    </tr>\n",
       "  </thead>\n",
       "  <tbody>\n",
       "    <tr>\n",
       "      <td>2009</td>\n",
       "      <td>1179</td>\n",
       "      <td>579</td>\n",
       "      <td>49.0</td>\n",
       "      <td>42948</td>\n",
       "      <td>65.0</td>\n",
       "    </tr>\n",
       "    <tr>\n",
       "      <td>2010</td>\n",
       "      <td>9577</td>\n",
       "      <td>4593</td>\n",
       "      <td>48.0</td>\n",
       "      <td>401757</td>\n",
       "      <td>72.0</td>\n",
       "    </tr>\n",
       "    <tr>\n",
       "      <td>2011</td>\n",
       "      <td>24049</td>\n",
       "      <td>12171</td>\n",
       "      <td>51.0</td>\n",
       "      <td>1378643</td>\n",
       "      <td>74.0</td>\n",
       "    </tr>\n",
       "    <tr>\n",
       "      <td>2012</td>\n",
       "      <td>38480</td>\n",
       "      <td>17892</td>\n",
       "      <td>46.0</td>\n",
       "      <td>4272850</td>\n",
       "      <td>74.0</td>\n",
       "    </tr>\n",
       "    <tr>\n",
       "      <td>2013</td>\n",
       "      <td>41101</td>\n",
       "      <td>19415</td>\n",
       "      <td>47.0</td>\n",
       "      <td>6128871</td>\n",
       "      <td>76.0</td>\n",
       "    </tr>\n",
       "    <tr>\n",
       "      <td>2014</td>\n",
       "      <td>59306</td>\n",
       "      <td>21107</td>\n",
       "      <td>36.0</td>\n",
       "      <td>5968349</td>\n",
       "      <td>84.0</td>\n",
       "    </tr>\n",
       "    <tr>\n",
       "      <td>2015</td>\n",
       "      <td>65272</td>\n",
       "      <td>20971</td>\n",
       "      <td>32.0</td>\n",
       "      <td>7236978</td>\n",
       "      <td>91.0</td>\n",
       "    </tr>\n",
       "    <tr>\n",
       "      <td>2016</td>\n",
       "      <td>49292</td>\n",
       "      <td>18766</td>\n",
       "      <td>38.0</td>\n",
       "      <td>6904388</td>\n",
       "      <td>92.0</td>\n",
       "    </tr>\n",
       "    <tr>\n",
       "      <td>2017</td>\n",
       "      <td>43419</td>\n",
       "      <td>18462</td>\n",
       "      <td>43.0</td>\n",
       "      <td>6266077</td>\n",
       "      <td>94.0</td>\n",
       "    </tr>\n",
       "  </tbody>\n",
       "</table>\n",
       "</div>"
      ],
      "text/plain": [
       "            project_count  count_success  percent_success  backers  \\\n",
       "year_start                                                           \n",
       "2009                 1179            579             49.0    42948   \n",
       "2010                 9577           4593             48.0   401757   \n",
       "2011                24049          12171             51.0  1378643   \n",
       "2012                38480          17892             46.0  4272850   \n",
       "2013                41101          19415             47.0  6128871   \n",
       "2014                59306          21107             36.0  5968349   \n",
       "2015                65272          20971             32.0  7236978   \n",
       "2016                49292          18766             38.0  6904388   \n",
       "2017                43419          18462             43.0  6266077   \n",
       "\n",
       "            mean_sum_year  \n",
       "year_start                 \n",
       "2009                 65.0  \n",
       "2010                 72.0  \n",
       "2011                 74.0  \n",
       "2012                 74.0  \n",
       "2013                 76.0  \n",
       "2014                 84.0  \n",
       "2015                 91.0  \n",
       "2016                 92.0  \n",
       "2017                 94.0  "
      ]
     },
     "execution_count": 30,
     "metadata": {},
     "output_type": "execute_result"
    }
   ],
   "source": [
    "backer_year"
   ]
  },
  {
   "cell_type": "code",
   "execution_count": 31,
   "metadata": {},
   "outputs": [
    {
     "data": {
      "text/plain": [
       "85.43844428858722"
      ]
     },
     "execution_count": 31,
     "metadata": {},
     "output_type": "execute_result"
    }
   ],
   "source": [
    "# средняя сумма взноса\n",
    "ks.usd_pledged_real.sum() / ks.backers.sum() "
   ]
  },
  {
   "cell_type": "code",
   "execution_count": 32,
   "metadata": {},
   "outputs": [
    {
     "data": {
      "image/png": "[encoded data removed]",
      "text/plain": [
       "<Figure size 432x288 with 1 Axes>"
      ]
     },
     "metadata": {
      "needs_background": "light"
     },
     "output_type": "display_data"
    },
    {
     "data": {
      "image/png": "[encoded data removed]",
      "text/plain": [
       "<Figure size 432x288 with 1 Axes>"
      ]
     },
     "metadata": {
      "needs_background": "light"
     },
     "output_type": "display_data"
    },
    {
     "data": {
      "image/png": "[encoded data removed]",
      "text/plain": [
       "<Figure size 432x288 with 1 Axes>"
      ]
     },
     "metadata": {
      "needs_background": "light"
     },
     "output_type": "display_data"
    },
    {
     "data": {
      "image/png": "[encoded data removed]",
      "text/plain": [
       "<Figure size 432x288 with 1 Axes>"
      ]
     },
     "metadata": {
      "needs_background": "light"
     },
     "output_type": "display_data"
    },
    {
     "data": {
      "image/png": "[encoded data removed]",
      "text/plain": [
       "<Figure size 432x288 with 1 Axes>"
      ]
     },
     "metadata": {
      "needs_background": "light"
     },
     "output_type": "display_data"
    }
   ],
   "source": [
    "backer_year.project_count.plot(kind='bar', rot='45', legend=True)\n",
    "plt.show()\n",
    "backer_year.count_success.plot(kind='bar', rot='45', legend=True)\n",
    "plt.show()\n",
    "backer_year.percent_success.plot(kind='bar', rot='45', legend=True)\n",
    "plt.show()\n",
    "backer_year.backers.plot(kind='bar', rot='45', legend=True)\n",
    "plt.show()\n",
    "backer_year.mean_sum_year.plot(kind='bar', rot='45', legend=True)\n",
    "plt.show()"
   ]
  },
  {
   "cell_type": "markdown",
   "metadata": {},
   "source": [
    "Можно отметить:\n",
    "    - количество проектов устойчиво росло до 2015 года затем пошел небольшой спад\n",
    "    - количество успешных проектов движется в том же направлении но с 2012 года изменения не так ярко выражены\n",
    "    - в процентном соотношении обратная динамика до 2015 года затем направляется в рост, это можно связать с тем что количество человек делающих взносы меняется не с такой скоростью с какой увеличивается количество проектов. Что логично количество инвесторов и успехов примерно на одном уровне а проектов становится больше. Стоит задуматься о привличении людей делающих взносы.\n",
    "    - средний взнос имеет небольшую положительную динамику\n",
    "2014 и 2015 годы можно назвать пиком активности для проекта"
   ]
  },
  {
   "cell_type": "markdown",
   "metadata": {},
   "source": [
    "Посмотри распределение успешности по общим категориям, месяцам, и странам(отделим США и Британию для наглядности на графике так как в этих странах количество значительно больше)"
   ]
  },
  {
   "cell_type": "code",
   "execution_count": 33,
   "metadata": {},
   "outputs": [],
   "source": [
    "ks_pivot_main_category = ks.pivot_table(index = 'main_category', columns = 'state', values='result', aggfunc = 'count')\n",
    "ks_pivot_month = ks.pivot_table(index = 'month_start', columns = 'state', values='result', aggfunc = 'count')\n",
    "ks_pivot_country_no_usgb = ks[\n",
    "    (ks['country'] != 'US') & (ks['country'] != 'GB')\n",
    "].pivot_table(index = 'country', columns = 'state', values='result', aggfunc = 'count')\n",
    "ks_pivot_country_usgb = ks[\n",
    "    (ks['country'] == 'US') | (ks['country'] == 'GB')\n",
    "].pivot_table(index = 'country', columns = 'state', values='result', aggfunc = 'count')"
   ]
  },
  {
   "cell_type": "code",
   "execution_count": 34,
   "metadata": {},
   "outputs": [
    {
     "data": {
      "image/png": "[encoded data removed]",
      "text/plain": [
       "<Figure size 1008x576 with 1 Axes>"
      ]
     },
     "metadata": {
      "needs_background": "light"
     },
     "output_type": "display_data"
    }
   ],
   "source": [
    "ks_pivot_main_category.plot(kind='bar', rot=45)\n",
    "fig=plt.gcf()\n",
    "fig.set_size_inches(14,8)\n",
    "plt.show()"
   ]
  },
  {
   "cell_type": "markdown",
   "metadata": {},
   "source": [
    "- Можно отметить что успешных проектов было больше в категориях: Comics, Dance, Music, Theatre\n",
    "    Можно сказать что в этих категориях шансы на успех выше чем в других \n",
    "- Более чем в два раз отстает количество успешных проектов в категориях: Crafts, Fashion, Food, Journalism, Technology\n",
    "    В этих категориях шансы наоборот меньше\n",
    "    \n",
    "В целом заметно что предпочтение люди отдают проектам от искусства и развлечений и наоборот с производственными(товары, услуги) категориями."
   ]
  },
  {
   "cell_type": "code",
   "execution_count": 35,
   "metadata": {},
   "outputs": [
    {
     "data": {
      "image/png": "[encoded data removed]",
      "text/plain": [
       "<Figure size 1008x576 with 1 Axes>"
      ]
     },
     "metadata": {
      "needs_background": "light"
     },
     "output_type": "display_data"
    }
   ],
   "source": [
    "ks_pivot_month.plot(kind='bar', rot=45)\n",
    "fig=plt.gcf()\n",
    "fig.set_size_inches(14,8)\n",
    "plt.show()"
   ]
  },
  {
   "cell_type": "markdown",
   "metadata": {},
   "source": [
    "Немного чаще успешными становятся проекты начала весны и середины осени в целом разница не значительная. Похуже обстоят дела в декабре."
   ]
  },
  {
   "cell_type": "code",
   "execution_count": 36,
   "metadata": {},
   "outputs": [
    {
     "data": {
      "image/png": "[encoded data removed]",
      "text/plain": [
       "<Figure size 432x360 with 1 Axes>"
      ]
     },
     "metadata": {
      "needs_background": "light"
     },
     "output_type": "display_data"
    }
   ],
   "source": [
    "ks_pivot_country_usgb.plot(kind='bar', rot=45)\n",
    "fig=plt.gcf()\n",
    "fig.set_size_inches(6,5)\n",
    "plt.show()"
   ]
  },
  {
   "cell_type": "markdown",
   "metadata": {},
   "source": [
    "Наибольшей популярностью проект пользуется в США и Великобритании. В этих странах намного больше проектов в целом и высокие шансы на их успех."
   ]
  },
  {
   "cell_type": "code",
   "execution_count": 37,
   "metadata": {},
   "outputs": [
    {
     "data": {
      "image/png": "[encoded data removed]",
      "text/plain": [
       "<Figure size 1008x576 with 1 Axes>"
      ]
     },
     "metadata": {
      "needs_background": "light"
     },
     "output_type": "display_data"
    }
   ],
   "source": [
    "ks_pivot_country_no_usgb.plot(kind='bar', rot=45)\n",
    "fig=plt.gcf()\n",
    "fig.set_size_inches(14,8)\n",
    "plt.show()"
   ]
  },
  {
   "cell_type": "markdown",
   "metadata": {},
   "source": [
    "Немного меньше шансов у проектов из Италии и Австрии. Но в целом фактор страны не выглядит решающим для стран с маленьким количеством проектов."
   ]
  },
  {
   "cell_type": "markdown",
   "metadata": {},
   "source": [
    "Сделаем топ 10 категорий и стран по успешным проектам"
   ]
  },
  {
   "cell_type": "code",
   "execution_count": 38,
   "metadata": {},
   "outputs": [],
   "source": [
    "ks_pivot_category = ks.pivot_table(index = 'category', columns = 'state', values='result', aggfunc = 'count')\n",
    "ks_pivot_country = ks.pivot_table(index = 'country', columns = 'state', values='result', aggfunc = 'count')"
   ]
  },
  {
   "cell_type": "code",
   "execution_count": 39,
   "metadata": {},
   "outputs": [
    {
     "data": {
      "text/html": [
       "<div>\n",
       "<style scoped>\n",
       "    .dataframe tbody tr th:only-of-type {\n",
       "        vertical-align: middle;\n",
       "    }\n",
       "\n",
       "    .dataframe tbody tr th {\n",
       "        vertical-align: top;\n",
       "    }\n",
       "\n",
       "    .dataframe thead th {\n",
       "        text-align: right;\n",
       "    }\n",
       "</style>\n",
       "<table border=\"1\" class=\"dataframe\">\n",
       "  <thead>\n",
       "    <tr style=\"text-align: right;\">\n",
       "      <th>state</th>\n",
       "      <th>failed</th>\n",
       "      <th>successful</th>\n",
       "    </tr>\n",
       "    <tr>\n",
       "      <th>category</th>\n",
       "      <th></th>\n",
       "      <th></th>\n",
       "    </tr>\n",
       "  </thead>\n",
       "  <tbody>\n",
       "    <tr>\n",
       "      <td>Product Design</td>\n",
       "      <td>10718</td>\n",
       "      <td>7962</td>\n",
       "    </tr>\n",
       "    <tr>\n",
       "      <td>Tabletop Games</td>\n",
       "      <td>3878</td>\n",
       "      <td>7866</td>\n",
       "    </tr>\n",
       "    <tr>\n",
       "      <td>Shorts</td>\n",
       "      <td>4721</td>\n",
       "      <td>6673</td>\n",
       "    </tr>\n",
       "    <tr>\n",
       "      <td>Music</td>\n",
       "      <td>6201</td>\n",
       "      <td>6432</td>\n",
       "    </tr>\n",
       "    <tr>\n",
       "      <td>Documentary</td>\n",
       "      <td>8599</td>\n",
       "      <td>5924</td>\n",
       "    </tr>\n",
       "    <tr>\n",
       "      <td>Theater</td>\n",
       "      <td>2279</td>\n",
       "      <td>4405</td>\n",
       "    </tr>\n",
       "    <tr>\n",
       "      <td>Indie Rock</td>\n",
       "      <td>1711</td>\n",
       "      <td>3618</td>\n",
       "    </tr>\n",
       "    <tr>\n",
       "      <td>Rock</td>\n",
       "      <td>2746</td>\n",
       "      <td>3500</td>\n",
       "    </tr>\n",
       "    <tr>\n",
       "      <td>Art</td>\n",
       "      <td>4101</td>\n",
       "      <td>3385</td>\n",
       "    </tr>\n",
       "    <tr>\n",
       "      <td>Food</td>\n",
       "      <td>7119</td>\n",
       "      <td>3297</td>\n",
       "    </tr>\n",
       "  </tbody>\n",
       "</table>\n",
       "</div>"
      ],
      "text/plain": [
       "state           failed  successful\n",
       "category                          \n",
       "Product Design   10718        7962\n",
       "Tabletop Games    3878        7866\n",
       "Shorts            4721        6673\n",
       "Music             6201        6432\n",
       "Documentary       8599        5924\n",
       "Theater           2279        4405\n",
       "Indie Rock        1711        3618\n",
       "Rock              2746        3500\n",
       "Art               4101        3385\n",
       "Food              7119        3297"
      ]
     },
     "execution_count": 39,
     "metadata": {},
     "output_type": "execute_result"
    }
   ],
   "source": [
    "ks_pivot_category.sort_values('successful', ascending=False).head(10)"
   ]
  },
  {
   "cell_type": "markdown",
   "metadata": {},
   "source": [
    "В целом по узким категориям что логично сохраняется та же динамика что и в общих."
   ]
  },
  {
   "cell_type": "code",
   "execution_count": 40,
   "metadata": {},
   "outputs": [
    {
     "data": {
      "text/html": [
       "<div>\n",
       "<style scoped>\n",
       "    .dataframe tbody tr th:only-of-type {\n",
       "        vertical-align: middle;\n",
       "    }\n",
       "\n",
       "    .dataframe tbody tr th {\n",
       "        vertical-align: top;\n",
       "    }\n",
       "\n",
       "    .dataframe thead th {\n",
       "        text-align: right;\n",
       "    }\n",
       "</style>\n",
       "<table border=\"1\" class=\"dataframe\">\n",
       "  <thead>\n",
       "    <tr style=\"text-align: right;\">\n",
       "      <th>state</th>\n",
       "      <th>failed</th>\n",
       "      <th>successful</th>\n",
       "    </tr>\n",
       "    <tr>\n",
       "      <th>country</th>\n",
       "      <th></th>\n",
       "      <th></th>\n",
       "    </tr>\n",
       "  </thead>\n",
       "  <tbody>\n",
       "    <tr>\n",
       "      <td>US</td>\n",
       "      <td>152061</td>\n",
       "      <td>109299</td>\n",
       "    </tr>\n",
       "    <tr>\n",
       "      <td>GB</td>\n",
       "      <td>17387</td>\n",
       "      <td>12067</td>\n",
       "    </tr>\n",
       "    <tr>\n",
       "      <td>CA</td>\n",
       "      <td>8236</td>\n",
       "      <td>4134</td>\n",
       "    </tr>\n",
       "    <tr>\n",
       "      <td>AU</td>\n",
       "      <td>4606</td>\n",
       "      <td>2010</td>\n",
       "    </tr>\n",
       "    <tr>\n",
       "      <td>DE</td>\n",
       "      <td>2499</td>\n",
       "      <td>937</td>\n",
       "    </tr>\n",
       "    <tr>\n",
       "      <td>FR</td>\n",
       "      <td>1612</td>\n",
       "      <td>908</td>\n",
       "    </tr>\n",
       "    <tr>\n",
       "      <td>NL</td>\n",
       "      <td>1794</td>\n",
       "      <td>617</td>\n",
       "    </tr>\n",
       "    <tr>\n",
       "      <td>SE</td>\n",
       "      <td>1000</td>\n",
       "      <td>509</td>\n",
       "    </tr>\n",
       "    <tr>\n",
       "      <td>ES</td>\n",
       "      <td>1381</td>\n",
       "      <td>492</td>\n",
       "    </tr>\n",
       "    <tr>\n",
       "      <td>NZ</td>\n",
       "      <td>826</td>\n",
       "      <td>448</td>\n",
       "    </tr>\n",
       "  </tbody>\n",
       "</table>\n",
       "</div>"
      ],
      "text/plain": [
       "state    failed  successful\n",
       "country                    \n",
       "US       152061      109299\n",
       "GB        17387       12067\n",
       "CA         8236        4134\n",
       "AU         4606        2010\n",
       "DE         2499         937\n",
       "FR         1612         908\n",
       "NL         1794         617\n",
       "SE         1000         509\n",
       "ES         1381         492\n",
       "NZ          826         448"
      ]
     },
     "execution_count": 40,
     "metadata": {},
     "output_type": "execute_result"
    }
   ],
   "source": [
    "ks_pivot_country.sort_values('successful', ascending=False).head(10)"
   ]
  },
  {
   "cell_type": "markdown",
   "metadata": {},
   "source": [
    "Наибольшим количеством успешных проектов могут похвастать США, Великобритания что мы уже отмечали ранее. К ним можно добавить Канаду и Австралию.\n",
    "\n",
    "Можно сделать вывод что у англоязычных стран дела на Kickstarter в целом обстоят лучше."
   ]
  },
  {
   "cell_type": "markdown",
   "metadata": {},
   "source": [
    "Топ 10 категорий в которых ищут поддержку"
   ]
  },
  {
   "cell_type": "code",
   "execution_count": 41,
   "metadata": {},
   "outputs": [
    {
     "data": {
      "text/html": [
       "<div>\n",
       "<style scoped>\n",
       "    .dataframe tbody tr th:only-of-type {\n",
       "        vertical-align: middle;\n",
       "    }\n",
       "\n",
       "    .dataframe tbody tr th {\n",
       "        vertical-align: top;\n",
       "    }\n",
       "\n",
       "    .dataframe thead th {\n",
       "        text-align: right;\n",
       "    }\n",
       "</style>\n",
       "<table border=\"1\" class=\"dataframe\">\n",
       "  <thead>\n",
       "    <tr style=\"text-align: right;\">\n",
       "      <th>state</th>\n",
       "      <th>failed</th>\n",
       "      <th>successful</th>\n",
       "      <th>count</th>\n",
       "    </tr>\n",
       "    <tr>\n",
       "      <th>main_category</th>\n",
       "      <th></th>\n",
       "      <th></th>\n",
       "      <th></th>\n",
       "    </tr>\n",
       "  </thead>\n",
       "  <tbody>\n",
       "    <tr>\n",
       "      <td>Film &amp; Video</td>\n",
       "      <td>32904</td>\n",
       "      <td>23623</td>\n",
       "      <td>56527</td>\n",
       "    </tr>\n",
       "    <tr>\n",
       "      <td>Music</td>\n",
       "      <td>21752</td>\n",
       "      <td>24197</td>\n",
       "      <td>45949</td>\n",
       "    </tr>\n",
       "    <tr>\n",
       "      <td>Publishing</td>\n",
       "      <td>23145</td>\n",
       "      <td>12300</td>\n",
       "      <td>35445</td>\n",
       "    </tr>\n",
       "    <tr>\n",
       "      <td>Games</td>\n",
       "      <td>16003</td>\n",
       "      <td>12518</td>\n",
       "      <td>28521</td>\n",
       "    </tr>\n",
       "    <tr>\n",
       "      <td>Technology</td>\n",
       "      <td>20616</td>\n",
       "      <td>6434</td>\n",
       "      <td>27050</td>\n",
       "    </tr>\n",
       "    <tr>\n",
       "      <td>Art</td>\n",
       "      <td>14131</td>\n",
       "      <td>11510</td>\n",
       "      <td>25641</td>\n",
       "    </tr>\n",
       "    <tr>\n",
       "      <td>Design</td>\n",
       "      <td>14814</td>\n",
       "      <td>10550</td>\n",
       "      <td>25364</td>\n",
       "    </tr>\n",
       "    <tr>\n",
       "      <td>Food</td>\n",
       "      <td>15969</td>\n",
       "      <td>6085</td>\n",
       "      <td>22054</td>\n",
       "    </tr>\n",
       "    <tr>\n",
       "      <td>Fashion</td>\n",
       "      <td>14182</td>\n",
       "      <td>5593</td>\n",
       "      <td>19775</td>\n",
       "    </tr>\n",
       "    <tr>\n",
       "      <td>Theater</td>\n",
       "      <td>3708</td>\n",
       "      <td>6534</td>\n",
       "      <td>10242</td>\n",
       "    </tr>\n",
       "  </tbody>\n",
       "</table>\n",
       "</div>"
      ],
      "text/plain": [
       "state          failed  successful  count\n",
       "main_category                           \n",
       "Film & Video    32904       23623  56527\n",
       "Music           21752       24197  45949\n",
       "Publishing      23145       12300  35445\n",
       "Games           16003       12518  28521\n",
       "Technology      20616        6434  27050\n",
       "Art             14131       11510  25641\n",
       "Design          14814       10550  25364\n",
       "Food            15969        6085  22054\n",
       "Fashion         14182        5593  19775\n",
       "Theater          3708        6534  10242"
      ]
     },
     "execution_count": 41,
     "metadata": {},
     "output_type": "execute_result"
    }
   ],
   "source": [
    "ks_pivot_main_category['count'] = ks_pivot_main_category['failed'] + ks_pivot_main_category['successful']\n",
    "ks_pivot_main_category.sort_values('count', ascending=False).head(10)"
   ]
  },
  {
   "cell_type": "code",
   "execution_count": 42,
   "metadata": {},
   "outputs": [
    {
     "data": {
      "text/html": [
       "<div>\n",
       "<style scoped>\n",
       "    .dataframe tbody tr th:only-of-type {\n",
       "        vertical-align: middle;\n",
       "    }\n",
       "\n",
       "    .dataframe tbody tr th {\n",
       "        vertical-align: top;\n",
       "    }\n",
       "\n",
       "    .dataframe thead th {\n",
       "        text-align: right;\n",
       "    }\n",
       "</style>\n",
       "<table border=\"1\" class=\"dataframe\">\n",
       "  <thead>\n",
       "    <tr style=\"text-align: right;\">\n",
       "      <th>state</th>\n",
       "      <th>failed</th>\n",
       "      <th>successful</th>\n",
       "      <th>count</th>\n",
       "    </tr>\n",
       "    <tr>\n",
       "      <th>category</th>\n",
       "      <th></th>\n",
       "      <th></th>\n",
       "      <th></th>\n",
       "    </tr>\n",
       "  </thead>\n",
       "  <tbody>\n",
       "    <tr>\n",
       "      <td>Product Design</td>\n",
       "      <td>10718</td>\n",
       "      <td>7962</td>\n",
       "      <td>18680</td>\n",
       "    </tr>\n",
       "    <tr>\n",
       "      <td>Documentary</td>\n",
       "      <td>8599</td>\n",
       "      <td>5924</td>\n",
       "      <td>14523</td>\n",
       "    </tr>\n",
       "    <tr>\n",
       "      <td>Music</td>\n",
       "      <td>6201</td>\n",
       "      <td>6432</td>\n",
       "      <td>12633</td>\n",
       "    </tr>\n",
       "    <tr>\n",
       "      <td>Tabletop Games</td>\n",
       "      <td>3878</td>\n",
       "      <td>7866</td>\n",
       "      <td>11744</td>\n",
       "    </tr>\n",
       "    <tr>\n",
       "      <td>Shorts</td>\n",
       "      <td>4721</td>\n",
       "      <td>6673</td>\n",
       "      <td>11394</td>\n",
       "    </tr>\n",
       "    <tr>\n",
       "      <td>Food</td>\n",
       "      <td>7119</td>\n",
       "      <td>3297</td>\n",
       "      <td>10416</td>\n",
       "    </tr>\n",
       "    <tr>\n",
       "      <td>Video Games</td>\n",
       "      <td>6942</td>\n",
       "      <td>2386</td>\n",
       "      <td>9328</td>\n",
       "    </tr>\n",
       "    <tr>\n",
       "      <td>Film &amp; Video</td>\n",
       "      <td>5554</td>\n",
       "      <td>3070</td>\n",
       "      <td>8624</td>\n",
       "    </tr>\n",
       "    <tr>\n",
       "      <td>Fiction</td>\n",
       "      <td>5875</td>\n",
       "      <td>2233</td>\n",
       "      <td>8108</td>\n",
       "    </tr>\n",
       "    <tr>\n",
       "      <td>Fashion</td>\n",
       "      <td>5341</td>\n",
       "      <td>2188</td>\n",
       "      <td>7529</td>\n",
       "    </tr>\n",
       "  </tbody>\n",
       "</table>\n",
       "</div>"
      ],
      "text/plain": [
       "state           failed  successful  count\n",
       "category                                 \n",
       "Product Design   10718        7962  18680\n",
       "Documentary       8599        5924  14523\n",
       "Music             6201        6432  12633\n",
       "Tabletop Games    3878        7866  11744\n",
       "Shorts            4721        6673  11394\n",
       "Food              7119        3297  10416\n",
       "Video Games       6942        2386   9328\n",
       "Film & Video      5554        3070   8624\n",
       "Fiction           5875        2233   8108\n",
       "Fashion           5341        2188   7529"
      ]
     },
     "execution_count": 42,
     "metadata": {},
     "output_type": "execute_result"
    }
   ],
   "source": [
    "ks_pivot_category['count'] = ks_pivot_category['failed'] + ks_pivot_category['successful']\n",
    "ks_pivot_category.sort_values('count', ascending=False).head(10)"
   ]
  },
  {
   "cell_type": "markdown",
   "metadata": {},
   "source": [
    "Можно сделать вывод, что чаще всего поддержку ищут проекты развлекательного типа и новых технологий."
   ]
  },
  {
   "cell_type": "markdown",
   "metadata": {},
   "source": [
    "Посмотрим сколько в среднем успешные проекты получали сверх цели, и сколько в среднем не хватало не успешным. Возьмем медиану так как существует ряд проектов с очень высокими или низкими показателями. Медианный показатель будет ближе для оценки среднестатистического проекта."
   ]
  },
  {
   "cell_type": "code",
   "execution_count": 43,
   "metadata": {},
   "outputs": [
    {
     "data": {
      "text/plain": [
       "3838"
      ]
     },
     "execution_count": 43,
     "metadata": {},
     "output_type": "execute_result"
    }
   ],
   "source": [
    "round(ks[ks['result']==1].usd_goal_real.median())"
   ]
  },
  {
   "cell_type": "code",
   "execution_count": 44,
   "metadata": {},
   "outputs": [
    {
     "data": {
      "text/plain": [
       "546"
      ]
     },
     "execution_count": 44,
     "metadata": {},
     "output_type": "execute_result"
    }
   ],
   "source": [
    "round(ks[ks['result']==1].diff_money.median())"
   ]
  },
  {
   "cell_type": "code",
   "execution_count": 45,
   "metadata": {},
   "outputs": [
    {
     "data": {
      "text/plain": [
       "7500"
      ]
     },
     "execution_count": 45,
     "metadata": {},
     "output_type": "execute_result"
    }
   ],
   "source": [
    "round(ks[ks['result']==0].usd_goal_real.median())"
   ]
  },
  {
   "cell_type": "code",
   "execution_count": 46,
   "metadata": {},
   "outputs": [
    {
     "data": {
      "text/plain": [
       "-6436"
      ]
     },
     "execution_count": 46,
     "metadata": {},
     "output_type": "execute_result"
    }
   ],
   "source": [
    "round(ks[ks['result']==0].diff_money.median())"
   ]
  },
  {
   "cell_type": "markdown",
   "metadata": {},
   "source": [
    "- Можно отметить что в среднем успешные проекты наберают незначительно больше средств.\n",
    "- А не успешные в свою очередь не добирают большей части (примерно 90%)\n",
    "\n",
    "Можно предположить что проекты обреченные на провал очевидны для большинства."
   ]
  },
  {
   "cell_type": "code",
   "execution_count": 47,
   "metadata": {},
   "outputs": [
    {
     "data": {
      "image/png": "[encoded data removed]",
      "text/plain": [
       "<Figure size 720x504 with 2 Axes>"
      ]
     },
     "metadata": {
      "needs_background": "light"
     },
     "output_type": "display_data"
    }
   ],
   "source": [
    "sns.heatmap(ks.corr(), annot=True, linewidths=0.3, cmap='coolwarm')\n",
    "fig=plt.gcf()\n",
    "fig.set_size_inches(10,7)"
   ]
  },
  {
   "cell_type": "markdown",
   "metadata": {},
   "source": [
    "Значимых для исследования неочевидных взвимосвязей выявить не удалось"
   ]
  },
  {
   "cell_type": "markdown",
   "metadata": {},
   "source": [
    "## Выдвинем гипотезу, что проекты из США и Великобритании, в категории Музыка, стартовавшие в марте или октябре более успешны чем остальные. "
   ]
  },
  {
   "cell_type": "code",
   "execution_count": 48,
   "metadata": {},
   "outputs": [],
   "source": [
    "target_sample = ks[\n",
    "    (ks['country'] == 'US') | (ks['country'] == 'GB') & \n",
    "    (ks['main_category'] == 'Music') & \n",
    "    (ks['month_start'] == 3) | (ks['month_start'] == 10)\n",
    "].result\n",
    "other_sample = ks[\n",
    "    (ks['country'] != 'US') & (ks['country'] != 'GB') & \n",
    "    (ks['main_category'] != 'Music') & \n",
    "    (ks['month_start'] != 3) & (ks['month_start'] != 10)\n",
    "].result"
   ]
  },
  {
   "cell_type": "code",
   "execution_count": 49,
   "metadata": {},
   "outputs": [
    {
     "data": {
      "text/plain": [
       "(0.24309931689186612, 0.20861946089558167)"
      ]
     },
     "execution_count": 49,
     "metadata": {},
     "output_type": "execute_result"
    }
   ],
   "source": [
    "statistics.variance(target_sample), statistics.variance(other_sample)"
   ]
  },
  {
   "cell_type": "code",
   "execution_count": 50,
   "metadata": {},
   "outputs": [
    {
     "data": {
      "text/plain": [
       "Ttest_indResult(statistic=40.767848630039076, pvalue=0.0)"
      ]
     },
     "execution_count": 50,
     "metadata": {},
     "output_type": "execute_result"
    }
   ],
   "source": [
    "stats.ttest_ind(target_sample, other_sample)"
   ]
  },
  {
   "cell_type": "code",
   "execution_count": 51,
   "metadata": {},
   "outputs": [],
   "source": [
    "descriptives, results = rp.ttest(target_sample, other_sample)"
   ]
  },
  {
   "cell_type": "code",
   "execution_count": 52,
   "metadata": {},
   "outputs": [
    {
     "data": {
      "text/html": [
       "<div>\n",
       "<style scoped>\n",
       "    .dataframe tbody tr th:only-of-type {\n",
       "        vertical-align: middle;\n",
       "    }\n",
       "\n",
       "    .dataframe tbody tr th {\n",
       "        vertical-align: top;\n",
       "    }\n",
       "\n",
       "    .dataframe thead th {\n",
       "        text-align: right;\n",
       "    }\n",
       "</style>\n",
       "<table border=\"1\" class=\"dataframe\">\n",
       "  <thead>\n",
       "    <tr style=\"text-align: right;\">\n",
       "      <th></th>\n",
       "      <th>Variable</th>\n",
       "      <th>N</th>\n",
       "      <th>Mean</th>\n",
       "      <th>SD</th>\n",
       "      <th>SE</th>\n",
       "      <th>95% Conf.</th>\n",
       "      <th>Interval</th>\n",
       "    </tr>\n",
       "  </thead>\n",
       "  <tbody>\n",
       "    <tr>\n",
       "      <td>0</td>\n",
       "      <td>result</td>\n",
       "      <td>268255.0</td>\n",
       "      <td>0.416924</td>\n",
       "      <td>0.493051</td>\n",
       "      <td>0.000952</td>\n",
       "      <td>0.415058</td>\n",
       "      <td>0.418790</td>\n",
       "    </tr>\n",
       "    <tr>\n",
       "      <td>1</td>\n",
       "      <td>result</td>\n",
       "      <td>30621.0</td>\n",
       "      <td>0.296561</td>\n",
       "      <td>0.456749</td>\n",
       "      <td>0.002610</td>\n",
       "      <td>0.291445</td>\n",
       "      <td>0.301677</td>\n",
       "    </tr>\n",
       "    <tr>\n",
       "      <td>2</td>\n",
       "      <td>combined</td>\n",
       "      <td>298876.0</td>\n",
       "      <td>0.404593</td>\n",
       "      <td>0.490814</td>\n",
       "      <td>0.000898</td>\n",
       "      <td>0.402833</td>\n",
       "      <td>0.406352</td>\n",
       "    </tr>\n",
       "  </tbody>\n",
       "</table>\n",
       "</div>"
      ],
      "text/plain": [
       "   Variable         N      Mean        SD        SE  95% Conf.  Interval\n",
       "0    result  268255.0  0.416924  0.493051  0.000952   0.415058  0.418790\n",
       "1    result   30621.0  0.296561  0.456749  0.002610   0.291445  0.301677\n",
       "2  combined  298876.0  0.404593  0.490814  0.000898   0.402833  0.406352"
      ]
     },
     "execution_count": 52,
     "metadata": {},
     "output_type": "execute_result"
    }
   ],
   "source": [
    "descriptives"
   ]
  },
  {
   "cell_type": "markdown",
   "metadata": {},
   "source": [
    "Тест на дисперсию показал что выборки не имеют значительные отклонения по дисперсии.\n",
    "\n",
    "pvalue < 0.05 значит выборки статистически различны, так же на это указывает различие средних показателей отвергаем нулевую гипотезу.\n",
    "\n",
    "Выборки статистически различны. В целевой группе средний показатель выше, наша гипотеза верна."
   ]
  },
  {
   "cell_type": "markdown",
   "metadata": {},
   "source": [
    "## Построение предективной модели определения успешности проекта. Определение факторов наиболее влияющих на результат"
   ]
  },
  {
   "cell_type": "markdown",
   "metadata": {},
   "source": [
    "Изменим текстовые данные на числовые"
   ]
  },
  {
   "cell_type": "code",
   "execution_count": 53,
   "metadata": {},
   "outputs": [],
   "source": [
    "label = LabelEncoder()\n",
    "dicts = {}\n",
    "\n",
    "label.fit(ks.category)\n",
    "dicts['category'] = list(label.classes_)\n",
    "ks.category = label.transform(ks.category)\n",
    "\n",
    "label.fit(ks.main_category)\n",
    "dicts['main_category'] = list(label.classes_)\n",
    "ks.main_category = label.transform(ks.main_category)\n",
    "\n",
    "label.fit(ks.country)\n",
    "dicts['country'] = list(label.classes_)\n",
    "ks.country = label.transform(ks.country)"
   ]
  },
  {
   "cell_type": "code",
   "execution_count": 54,
   "metadata": {},
   "outputs": [],
   "source": [
    "input_x = ks[['category', 'main_category', 'country', 'month_start',\n",
    "              'amount_days', 'usd_goal_real']]\n",
    "Y = ks['result']"
   ]
  },
  {
   "cell_type": "code",
   "execution_count": 55,
   "metadata": {},
   "outputs": [],
   "source": [
    "x_train, x_test, y_train, y_test = train_test_split(input_x, Y, test_size=0.3)"
   ]
  },
  {
   "cell_type": "markdown",
   "metadata": {},
   "source": [
    "Построим модель Random Forest"
   ]
  },
  {
   "cell_type": "code",
   "execution_count": 56,
   "metadata": {},
   "outputs": [
    {
     "data": {
      "text/plain": [
       "RandomForestClassifier(bootstrap=True, ccp_alpha=0.0, class_weight=None,\n",
       "                       criterion='gini', max_depth=None, max_features='auto',\n",
       "                       max_leaf_nodes=None, max_samples=None,\n",
       "                       min_impurity_decrease=0.0, min_impurity_split=None,\n",
       "                       min_samples_leaf=1, min_samples_split=2,\n",
       "                       min_weight_fraction_leaf=0.0, n_estimators=100,\n",
       "                       n_jobs=None, oob_score=False, random_state=None,\n",
       "                       verbose=0, warm_start=False)"
      ]
     },
     "execution_count": 56,
     "metadata": {},
     "output_type": "execute_result"
    }
   ],
   "source": [
    "model = RandomForestClassifier(n_estimators=100)\n",
    "model.fit(x_train,y_train)"
   ]
  },
  {
   "cell_type": "markdown",
   "metadata": {},
   "source": [
    "Определим наиболее важные атрибуты для успешности проекта"
   ]
  },
  {
   "cell_type": "code",
   "execution_count": 57,
   "metadata": {},
   "outputs": [
    {
     "name": "stderr",
     "output_type": "stream",
     "text": [
      "No handles with labels found to put in legend.\n"
     ]
    },
    {
     "data": {
      "image/png": "[encoded data removed]",
      "text/plain": [
       "<Figure size 432x432 with 1 Axes>"
      ]
     },
     "metadata": {
      "needs_background": "light"
     },
     "output_type": "display_data"
    }
   ],
   "source": [
    "headers = list(x_train.columns.values)\n",
    "\n",
    "feature_imp = pd.Series(model.feature_importances_, index=headers).sort_values(ascending=False)\n",
    "\n",
    "f, ax = plt.subplots(figsize=(6, 6))\n",
    "sns.barplot(x=feature_imp, y=feature_imp.index)\n",
    "\n",
    "plt.xlabel('Важность атрибутов')\n",
    "plt.ylabel('Атрибуты')\n",
    "plt.title('Наиболее важные атрибуты')\n",
    "plt.legend()\n",
    "plt.show()"
   ]
  },
  {
   "cell_type": "markdown",
   "metadata": {},
   "source": [
    "Самым значительным оказался фактор требуемой суммы "
   ]
  },
  {
   "cell_type": "markdown",
   "metadata": {},
   "source": [
    "Оценим точность модели"
   ]
  },
  {
   "cell_type": "code",
   "execution_count": 58,
   "metadata": {},
   "outputs": [
    {
     "name": "stdout",
     "output_type": "stream",
     "text": [
      "              precision    recall  f1-score   support\n",
      "\n",
      "           0       0.69      0.74      0.72     59268\n",
      "           1       0.57      0.51      0.54     40235\n",
      "\n",
      "    accuracy                           0.65     99503\n",
      "   macro avg       0.63      0.63      0.63     99503\n",
      "weighted avg       0.64      0.65      0.64     99503\n",
      "\n"
     ]
    }
   ],
   "source": [
    "model_pred = model.predict(x_test)\n",
    "print(classification_report(y_test, model_pred))"
   ]
  },
  {
   "cell_type": "code",
   "execution_count": 59,
   "metadata": {},
   "outputs": [
    {
     "data": {
      "text/plain": [
       "0.648844758449494"
      ]
     },
     "execution_count": 59,
     "metadata": {},
     "output_type": "execute_result"
    }
   ],
   "source": [
    "model.score(x_test, y_test)"
   ]
  },
  {
   "cell_type": "markdown",
   "metadata": {},
   "source": [
    "Другой вариант модели:"
   ]
  },
  {
   "cell_type": "code",
   "execution_count": 60,
   "metadata": {},
   "outputs": [],
   "source": [
    "from sklearn.linear_model import LogisticRegression\n",
    "clf = LogisticRegression(random_state=0).fit(x_train, y_train)"
   ]
  },
  {
   "cell_type": "code",
   "execution_count": 61,
   "metadata": {},
   "outputs": [
    {
     "data": {
      "text/plain": [
       "0.614363386028562"
      ]
     },
     "execution_count": 61,
     "metadata": {},
     "output_type": "execute_result"
    }
   ],
   "source": [
    "clf.score(x_test, y_test)"
   ]
  }
 ],
 "metadata": {
  "kernelspec": {
   "display_name": "Python 3",
   "language": "python",
   "name": "python3"
  },
  "language_info": {
   "codemirror_mode": {
    "name": "ipython",
    "version": 3
   },
   "file_extension": ".py",
   "mimetype": "text/x-python",
   "name": "python",
   "nbconvert_exporter": "python",
   "pygments_lexer": "ipython3",
   "version": "3.7.4"
  }
 },
 "nbformat": 4,
 "nbformat_minor": 2
}
